{
 "cells": [
  {
   "cell_type": "markdown",
   "source": [
    "**Implementing the ideas in the Advanced Learning Algorithms>Week 1>Neural network layer**\n",
    "https://www.coursera.org/learn/advanced-learning-algorithms/lecture/z5sks/neural-network-layer"
   ],
   "metadata": {
    "collapsed": false,
    "pycharm": {
     "name": "#%% md\n"
    }
   }
  },
  {
   "cell_type": "code",
   "execution_count": 4,
   "metadata": {
    "collapsed": true,
    "pycharm": {
     "name": "#%%\n"
    }
   },
   "outputs": [],
   "source": [
    "import pandas as pd\n",
    "import numpy as np\n",
    "import tensorflow as tf\n",
    "import random\n"
   ]
  },
  {
   "cell_type": "markdown",
   "source": [
    "A neuron outputs an activation which is equal to $a=g(z)$ where $z=wx+b$ where x is the input of the neuron and w and b are dependent on the training. The choice of $g$ function is dependedant on the training and kind of problem, in case of the sigmoid function $g(z)=1/e^{-z}$"
   ],
   "metadata": {
    "collapsed": false,
    "pycharm": {
     "name": "#%% md\n"
    }
   }
  },
  {
   "cell_type": "code",
   "execution_count": 2,
   "outputs": [],
   "source": [
    "def neuron(x,w,b):\n",
    "    a=w*x+b\n",
    "    a=1/(np.e**(-a)) #sigmoid function\n",
    "    return a\n",
    "\n"
   ],
   "metadata": {
    "collapsed": false,
    "pycharm": {
     "name": "#%%\n"
    }
   }
  },
  {
   "cell_type": "code",
   "execution_count": 11,
   "outputs": [],
   "source": [
    "def neuron_1(x, w, b):\n",
    "\n",
    "       a=w*x+b\n",
    "       a=1/(np.e**(-a))\n",
    "       return a #sigmoid function\n",
    "\n",
    "random.seed(6)\n",
    "class Neural_Network_1:\n",
    "\n",
    "    def __init__(self):\n",
    "        self.layers=None #layers should be a dict arranged as {layer_1: Number of Neurons,\n",
    "        #layer_2: Number of Neurons\n",
    "        #.\n",
    "        #.\n",
    "        #layer_n: Number of Neurons}\n",
    "\n",
    "        self.x=None\n",
    "        self.y=None\n",
    "        self.neuron=neuron_1()\n",
    "    def layer(self):\n",
    "        weights_layer=[] #empty list of weights\n",
    "        bias_layer=[] #empty list of biases\n",
    "        activation_layer=[] #activations of each layer\n",
    "\n",
    "        for key in self.layers.keys:\n",
    "            number_of_neurons=self.layers(key)\n",
    "            weights_layer=random.sample(range(1, 6), number_of_neurons)\n",
    "            bias_layer=random.sample(range(1,6),number_of_neurons)\n",
    "            if key==1:\n",
    "                for n in range(number_of_neurons):\n",
    "                    activation_layer=neuron(self.x,weights_layer,bias_layer)\n",
    "\n",
    "\n",
    "\n",
    "\n",
    "            else:\n",
    "                for n in range(number_of_neurons):\n",
    "                    activation_layer=neuron(activation_layer,weights_layer,bias_layer)\n",
    "\n",
    "        return activation_layer\n",
    "    def training(self):\n",
    "        pass\n",
    "    def inference(self):\n",
    "        pass\n",
    "    def back_prop(self):\n",
    "        pass\n",
    "\n"
   ],
   "metadata": {
    "collapsed": false,
    "pycharm": {
     "name": "#%%\n"
    }
   }
  },
  {
   "cell_type": "code",
   "execution_count": 15,
   "outputs": [
    {
     "ename": "TypeError",
     "evalue": "list indices must be integers or slices, not tuple",
     "output_type": "error",
     "traceback": [
      "\u001B[1;31m---------------------------------------------------------------------------\u001B[0m",
      "\u001B[1;31mTypeError\u001B[0m                                 Traceback (most recent call last)",
      "Cell \u001B[1;32mIn [15], line 5\u001B[0m\n\u001B[0;32m      3\u001B[0m \u001B[38;5;28;01mfor\u001B[39;00m i \u001B[38;5;129;01min\u001B[39;00m \u001B[38;5;28mrange\u001B[39m(\u001B[38;5;241m3\u001B[39m):\n\u001B[0;32m      4\u001B[0m     \u001B[38;5;28;01mfor\u001B[39;00m j \u001B[38;5;129;01min\u001B[39;00m \u001B[38;5;28mrange\u001B[39m(\u001B[38;5;241m4\u001B[39m):\n\u001B[1;32m----> 5\u001B[0m         \u001B[43ma\u001B[49m\u001B[43m[\u001B[49m\u001B[43mi\u001B[49m\u001B[43m,\u001B[49m\u001B[43mj\u001B[49m\u001B[43m]\u001B[49m\u001B[38;5;241m=\u001B[39mi\u001B[38;5;241m*\u001B[39mj\n\u001B[0;32m      6\u001B[0m \u001B[38;5;28mprint\u001B[39m(x)\n\u001B[0;32m      7\u001B[0m \u001B[38;5;28mprint\u001B[39m(a)\n",
      "\u001B[1;31mTypeError\u001B[0m: list indices must be integers or slices, not tuple"
     ]
    }
   ],
   "source": [
    "x=[1,2,3,4]\n",
    "a=[[]]\n",
    "for i in range(3):\n",
    "    for j in range(4):\n",
    "        a[i,j]=i*j\n",
    "print(x)\n",
    "print(a)\n"
   ],
   "metadata": {
    "collapsed": false,
    "pycharm": {
     "name": "#%%\n"
    }
   }
  },
  {
   "cell_type": "code",
   "execution_count": 8,
   "outputs": [
    {
     "name": "stdout",
     "output_type": "stream",
     "text": [
      "[3, 4, 5, 1, 2]\n"
     ]
    }
   ],
   "source": [
    "randomlist = random.sample(range(1, 6), 5)\n",
    "print(randomlist)"
   ],
   "metadata": {
    "collapsed": false,
    "pycharm": {
     "name": "#%%\n"
    }
   }
  },
  {
   "cell_type": "code",
   "execution_count": null,
   "outputs": [],
   "source": [],
   "metadata": {
    "collapsed": false,
    "pycharm": {
     "name": "#%%\n"
    }
   }
  }
 ],
 "metadata": {
  "kernelspec": {
   "display_name": "Python 3",
   "language": "python",
   "name": "python3"
  },
  "language_info": {
   "codemirror_mode": {
    "name": "ipython",
    "version": 2
   },
   "file_extension": ".py",
   "mimetype": "text/x-python",
   "name": "python",
   "nbconvert_exporter": "python",
   "pygments_lexer": "ipython2",
   "version": "2.7.6"
  }
 },
 "nbformat": 4,
 "nbformat_minor": 0
}