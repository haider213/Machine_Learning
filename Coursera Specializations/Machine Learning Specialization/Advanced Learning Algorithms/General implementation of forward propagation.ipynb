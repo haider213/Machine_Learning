{
 "cells": [
  {
   "cell_type": "markdown",
   "source": [
    "A more general implementation of forward prop for a neural network\n"
   ],
   "metadata": {
    "collapsed": false
   }
  },
  {
   "cell_type": "code",
   "execution_count": 1,
   "outputs": [],
   "source": [
    "import numpy as np"
   ],
   "metadata": {
    "collapsed": false
   }
  },
  {
   "cell_type": "code",
   "execution_count": 2,
   "outputs": [],
   "source": [
    "def dense_1(a_in,W,b):\n",
    "    units=W.shape[1]\n",
    "    a_out=np.zeros(units)\n",
    "    for h in units:\n",
    "        w=W[:,h]\n",
    "        a_out[h]=np.dot(w,a_in) + b[h]\n",
    "\n",
    "\n",
    "\n",
    "\n",
    "    return a_out"
   ],
   "metadata": {
    "collapsed": false
   }
  },
  {
   "cell_type": "code",
   "execution_count": 3,
   "outputs": [],
   "source": [
    "np.dot?"
   ],
   "metadata": {
    "collapsed": false
   }
  },
  {
   "cell_type": "markdown",
   "source": [
    "A matrix is just a block or 2-D array of numbers\n",
    "\\begin{bmatrix}\n",
    "\t1 & 2 & 3 \\\\\n",
    "\t4 & 5 & 6\\\\\n",
    "\t7 & 8 & 9 \\\\\n",
    "\\end{bmatrix}\n",
    "\n",
    "So then, What does it mean to multiply two matrices\n",
    "\n",
    "<img src=\"C:\\Users\\Haider\\OneDrive - AUT University\\Machine_Learning\\Coursera Specializations\\Machine Learning Specialization\\Advanced Learning Algorithms\\download.mp4\">animate\n"
   ],
   "metadata": {
    "collapsed": false
   }
  },
  {
   "cell_type": "markdown",
   "source": [
    "<video controls src=\"C:\\Users\\Haider\\OneDrive - AUT University\\Machine_Learning\\Coursera Specializations\\Machine Learning Specialization\\Advanced Learning Algorithms\\download.mp4\">animation</video>"
   ],
   "metadata": {
    "collapsed": false
   }
  },
  {
   "cell_type": "markdown",
   "source": [],
   "metadata": {
    "collapsed": false
   }
  },
  {
   "cell_type": "code",
   "execution_count": 1,
   "outputs": [
    {
     "name": "stdout",
     "output_type": "stream",
     "text": [
      "Requirement already satisfied: manim in c:\\users\\haider\\onedrive - aut university\\machine_learning\\venv\\lib\\site-packages (0.17.2)\n",
      "Requirement already satisfied: watchdog<3.0.0,>=2.1.6 in c:\\users\\haider\\onedrive - aut university\\machine_learning\\venv\\lib\\site-packages (from manim) (2.2.0)\n",
      "Requirement already satisfied: networkx<3.0,>=2.5 in c:\\users\\haider\\onedrive - aut university\\machine_learning\\venv\\lib\\site-packages (from manim) (2.8.8)\n",
      "Requirement already satisfied: isosurfaces==0.1.0 in c:\\users\\haider\\onedrive - aut university\\machine_learning\\venv\\lib\\site-packages (from manim) (0.1.0)\n",
      "Requirement already satisfied: Pillow<10.0,>=9.1 in c:\\users\\haider\\appdata\\local\\programs\\python\\python39\\lib\\site-packages (from manim) (9.2.0)\n",
      "Requirement already satisfied: colour<0.2.0,>=0.1.5 in c:\\users\\haider\\onedrive - aut university\\machine_learning\\venv\\lib\\site-packages (from manim) (0.1.5)\n",
      "Requirement already satisfied: skia-pathops<0.8.0,>=0.7.0 in c:\\users\\haider\\onedrive - aut university\\machine_learning\\venv\\lib\\site-packages (from manim) (0.7.4)\n",
      "Requirement already satisfied: srt<4.0.0,>=3.5.0 in c:\\users\\haider\\onedrive - aut university\\machine_learning\\venv\\lib\\site-packages (from manim) (3.5.2)\n",
      "Requirement already satisfied: decorator<6.0.0,>=5.0.7 in c:\\users\\haider\\appdata\\local\\programs\\python\\python39\\lib\\site-packages (from manim) (5.1.1)\n",
      "Requirement already satisfied: svgelements<2.0.0,>=1.8.0 in c:\\users\\haider\\onedrive - aut university\\machine_learning\\venv\\lib\\site-packages (from manim) (1.9.0)\n",
      "Requirement already satisfied: Pygments<3.0.0,>=2.10.0 in c:\\users\\haider\\appdata\\local\\programs\\python\\python39\\lib\\site-packages (from manim) (2.13.0)\n",
      "Requirement already satisfied: tqdm<5.0.0,>=4.62.3 in c:\\users\\haider\\onedrive - aut university\\machine_learning\\venv\\lib\\site-packages (from manim) (4.64.1)\n",
      "Requirement already satisfied: pydub<0.26.0,>=0.25.1 in c:\\users\\haider\\onedrive - aut university\\machine_learning\\venv\\lib\\site-packages (from manim) (0.25.1)\n",
      "Requirement already satisfied: click<=9.0,>=7.2 in c:\\users\\haider\\onedrive - aut university\\machine_learning\\venv\\lib\\site-packages (from manim) (8.1.3)\n",
      "Requirement already satisfied: scipy<2.0.0,>=1.7.3 in c:\\users\\haider\\appdata\\local\\programs\\python\\python39\\lib\\site-packages (from manim) (1.9.3)\n",
      "Requirement already satisfied: click-default-group<2.0.0,>=1.2.2 in c:\\users\\haider\\onedrive - aut university\\machine_learning\\venv\\lib\\site-packages (from manim) (1.2.2)\n",
      "Requirement already satisfied: requests<3.0.0,>=2.26.0 in c:\\users\\haider\\appdata\\local\\programs\\python\\python39\\lib\\site-packages (from manim) (2.28.1)\n",
      "Requirement already satisfied: moderngl<6.0.0,>=5.6.3 in c:\\users\\haider\\onedrive - aut university\\machine_learning\\venv\\lib\\site-packages (from manim) (5.7.4)\n",
      "Requirement already satisfied: screeninfo<0.9,>=0.8 in c:\\users\\haider\\onedrive - aut university\\machine_learning\\venv\\lib\\site-packages (from manim) (0.8.1)\n",
      "Requirement already satisfied: numpy<2.0,>=1.19 in c:\\users\\haider\\appdata\\local\\programs\\python\\python39\\lib\\site-packages (from manim) (1.23.2)\n",
      "Requirement already satisfied: cloup<0.14.0,>=0.13.0 in c:\\users\\haider\\onedrive - aut university\\machine_learning\\venv\\lib\\site-packages (from manim) (0.13.1)\n",
      "Requirement already satisfied: manimpango<0.5.0,>=0.4.0.post0 in c:\\users\\haider\\onedrive - aut university\\machine_learning\\venv\\lib\\site-packages (from manim) (0.4.3)\n",
      "Requirement already satisfied: rich!=12.0.0,>=6.0 in c:\\users\\haider\\onedrive - aut university\\machine_learning\\venv\\lib\\site-packages (from manim) (12.6.0)\n",
      "Requirement already satisfied: moderngl-window<3.0.0,>=2.3.0 in c:\\users\\haider\\onedrive - aut university\\machine_learning\\venv\\lib\\site-packages (from manim) (2.4.2)\n",
      "Requirement already satisfied: pycairo<2.0,>=1.21 in c:\\users\\haider\\onedrive - aut university\\machine_learning\\venv\\lib\\site-packages (from manim) (1.23.0)\n",
      "Requirement already satisfied: mapbox-earcut<2.0.0,>=1.0.0 in c:\\users\\haider\\onedrive - aut university\\machine_learning\\venv\\lib\\site-packages (from manim) (1.0.1)\n",
      "Requirement already satisfied: colorama in c:\\users\\haider\\appdata\\local\\programs\\python\\python39\\lib\\site-packages (from click<=9.0,>=7.2->manim) (0.4.5)\n",
      "Requirement already satisfied: glcontext<3,>=2.3.6 in c:\\users\\haider\\onedrive - aut university\\machine_learning\\venv\\lib\\site-packages (from moderngl<6.0.0,>=5.6.3->manim) (2.3.7)\n",
      "Requirement already satisfied: pyglet>=2.0dev23 in c:\\users\\haider\\onedrive - aut university\\machine_learning\\venv\\lib\\site-packages (from moderngl-window<3.0.0,>=2.3.0->manim) (2.0.2.1)\n",
      "Requirement already satisfied: pyrr<1,>=0.10.3 in c:\\users\\haider\\onedrive - aut university\\machine_learning\\venv\\lib\\site-packages (from moderngl-window<3.0.0,>=2.3.0->manim) (0.10.3)\n",
      "Requirement already satisfied: certifi>=2017.4.17 in c:\\users\\haider\\appdata\\local\\programs\\python\\python39\\lib\\site-packages (from requests<3.0.0,>=2.26.0->manim) (2022.9.14)\n",
      "Requirement already satisfied: urllib3<1.27,>=1.21.1 in c:\\users\\haider\\appdata\\local\\programs\\python\\python39\\lib\\site-packages (from requests<3.0.0,>=2.26.0->manim) (1.26.12)\n",
      "Requirement already satisfied: idna<4,>=2.5 in c:\\users\\haider\\appdata\\local\\programs\\python\\python39\\lib\\site-packages (from requests<3.0.0,>=2.26.0->manim) (3.4)\n",
      "Requirement already satisfied: charset-normalizer<3,>=2 in c:\\users\\haider\\appdata\\local\\programs\\python\\python39\\lib\\site-packages (from requests<3.0.0,>=2.26.0->manim) (2.1.1)\n",
      "Requirement already satisfied: commonmark<0.10.0,>=0.9.0 in c:\\users\\haider\\onedrive - aut university\\machine_learning\\venv\\lib\\site-packages (from rich!=12.0.0,>=6.0->manim) (0.9.1)\n",
      "Requirement already satisfied: multipledispatch in c:\\users\\haider\\onedrive - aut university\\machine_learning\\venv\\lib\\site-packages (from pyrr<1,>=0.10.3->moderngl-window<3.0.0,>=2.3.0->manim) (0.6.0)\n",
      "Requirement already satisfied: six in c:\\users\\haider\\appdata\\local\\programs\\python\\python39\\lib\\site-packages (from multipledispatch->pyrr<1,>=0.10.3->moderngl-window<3.0.0,>=2.3.0->manim) (1.16.0)\n"
     ]
    },
    {
     "name": "stderr",
     "output_type": "stream",
     "text": [
      "WARNING: You are using pip version 21.3.1; however, version 22.3.1 is available.\n",
      "You should consider upgrading via the 'C:\\Users\\Haider\\OneDrive - AUT University\\Machine_Learning\\venv\\Scripts\\python.exe -m pip install --upgrade pip' command.\n"
     ]
    }
   ],
   "source": [
    "!pip install manim"
   ],
   "metadata": {
    "collapsed": false
   }
  },
  {
   "cell_type": "markdown",
   "source": [],
   "metadata": {
    "collapsed": false
   }
  },
  {
   "cell_type": "code",
   "execution_count": null,
   "outputs": [],
   "source": [],
   "metadata": {
    "collapsed": false
   }
  }
 ],
 "metadata": {
  "kernelspec": {
   "display_name": "Python 3",
   "language": "python",
   "name": "python3"
  },
  "language_info": {
   "codemirror_mode": {
    "name": "ipython",
    "version": 2
   },
   "file_extension": ".py",
   "mimetype": "text/x-python",
   "name": "python",
   "nbconvert_exporter": "python",
   "pygments_lexer": "ipython2",
   "version": "2.7.6"
  }
 },
 "nbformat": 4,
 "nbformat_minor": 0
}
