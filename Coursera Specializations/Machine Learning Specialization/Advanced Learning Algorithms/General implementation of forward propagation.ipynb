{
 "cells": [
  {
   "cell_type": "markdown",
   "source": [
    "A more general implementation of forward prop for a neural network\n"
   ],
   "metadata": {
    "collapsed": false
   }
  },
  {
   "cell_type": "code",
   "execution_count": 5,
   "outputs": [],
   "source": [
    "import numpy as np"
   ],
   "metadata": {
    "collapsed": false
   }
  },
  {
   "cell_type": "code",
   "execution_count": 4,
   "outputs": [],
   "source": [
    "def dense_1(a_in,W,b):\n",
    "    units=W.shape[1]\n",
    "    a_out=np.zeros(units)\n",
    "    for h in units:\n",
    "        w=W[:,h]\n",
    "        a_out[h]=np.dot(w,a_in) + b[h]\n",
    "\n",
    "\n",
    "\n",
    "\n",
    "    return a_out"
   ],
   "metadata": {
    "collapsed": false
   }
  },
  {
   "cell_type": "code",
   "execution_count": 3,
   "outputs": [],
   "source": [
    "np.dot?"
   ],
   "metadata": {
    "collapsed": false
   }
  },
  {
   "cell_type": "code",
   "execution_count": null,
   "outputs": [],
   "source": [],
   "metadata": {
    "collapsed": false
   }
  }
 ],
 "metadata": {
  "kernelspec": {
   "display_name": "Python 3",
   "language": "python",
   "name": "python3"
  },
  "language_info": {
   "codemirror_mode": {
    "name": "ipython",
    "version": 2
   },
   "file_extension": ".py",
   "mimetype": "text/x-python",
   "name": "python",
   "nbconvert_exporter": "python",
   "pygments_lexer": "ipython2",
   "version": "2.7.6"
  }
 },
 "nbformat": 4,
 "nbformat_minor": 0
}
