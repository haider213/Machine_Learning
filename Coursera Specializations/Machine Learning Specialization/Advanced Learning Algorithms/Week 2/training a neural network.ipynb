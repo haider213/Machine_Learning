{
 "cells": [
  {
   "cell_type": "markdown",
   "source": [
    "In this notebook we will look at training a neural network using tensorflow\n"
   ],
   "metadata": {
    "collapsed": false
   }
  },
  {
   "cell_type": "code",
   "execution_count": 7,
   "outputs": [],
   "source": [
    "import tensorflow as tf\n",
    "from keras.layers import Dense\n",
    "from keras import Sequential\n",
    "from keras.losses import BinaryCrossentropy\n",
    "import numpy as np"
   ],
   "metadata": {
    "collapsed": false
   }
  },
  {
   "cell_type": "code",
   "execution_count": 4,
   "outputs": [],
   "source": [
    "model=Sequential([\n",
    "    Dense(units=25,activation='sigmoid'),\n",
    "    Dense(units=15,activation='sigmoid'),\n",
    "    Dense(units=1,activation='sigmoid')]\n",
    "\n",
    ")"
   ],
   "metadata": {
    "collapsed": false
   }
  },
  {
   "cell_type": "code",
   "execution_count": 6,
   "outputs": [],
   "source": [
    "model.compile(loss=BinaryCrossentropy())"
   ],
   "metadata": {
    "collapsed": false
   }
  },
  {
   "cell_type": "raw",
   "source": [
    "Generating coffee data"
   ],
   "metadata": {
    "collapsed": false
   }
  },
  {
   "cell_type": "code",
   "execution_count": 8,
   "outputs": [],
   "source": [
    "\n",
    "def generate_coffee_data():\n",
    "    rng = np.random.default_rng(2)\n",
    "    X = rng.random(400).reshape(-1, 2)\n",
    "    X[:, 1] = X[:, 1] * 4 + 11.5  # 12-15 min is best\n",
    "    X[:, 0] = X[:, 0] * (285 - 150) + 150  # 350-500 F (175-260 C) is best\n",
    "    Y = np.zeros(len(X))\n",
    "\n",
    "    i = 0\n",
    "    for t, d in X:\n",
    "        y = -3 / (260 - 175) * t + 21\n",
    "        if 175 < t < 260 and 12 < d < 15 and d <= y:\n",
    "            Y[i] = 1\n",
    "        else:\n",
    "            Y[i] = 0\n",
    "        i += 1\n",
    "\n",
    "    return X, Y.reshape(-1, 1)"
   ],
   "metadata": {
    "collapsed": false
   }
  },
  {
   "cell_type": "code",
   "execution_count": 10,
   "outputs": [],
   "source": [
    "x,y=generate_coffee_data()"
   ],
   "metadata": {
    "collapsed": false
   }
  },
  {
   "cell_type": "code",
   "execution_count": 11,
   "outputs": [
    {
     "data": {
      "text/plain": "<keras.engine.sequential.Sequential at 0x2850ce57490>"
     },
     "execution_count": 11,
     "metadata": {},
     "output_type": "execute_result"
    }
   ],
   "source": [
    "model"
   ],
   "metadata": {
    "collapsed": false
   }
  },
  {
   "cell_type": "code",
   "execution_count": 15,
   "outputs": [
    {
     "name": "stdout",
     "output_type": "stream",
     "text": [
      "Epoch 1/100\n",
      "7/7 [==============================] - 0s 3ms/step - loss: 1.0375\n",
      "Epoch 2/100\n",
      "7/7 [==============================] - 0s 0s/step - loss: 0.9801\n",
      "Epoch 3/100\n",
      "7/7 [==============================] - 0s 3ms/step - loss: 0.9309\n",
      "Epoch 4/100\n",
      "7/7 [==============================] - 0s 0s/step - loss: 0.8885\n",
      "Epoch 5/100\n",
      "7/7 [==============================] - 0s 3ms/step - loss: 0.8502\n",
      "Epoch 6/100\n",
      "7/7 [==============================] - 0s 0s/step - loss: 0.8161\n",
      "Epoch 7/100\n",
      "7/7 [==============================] - 0s 3ms/step - loss: 0.7836\n",
      "Epoch 8/100\n",
      "7/7 [==============================] - 0s 0s/step - loss: 0.7542\n",
      "Epoch 9/100\n",
      "7/7 [==============================] - 0s 590us/step - loss: 0.7264\n",
      "Epoch 10/100\n",
      "7/7 [==============================] - 0s 0s/step - loss: 0.7016\n",
      "Epoch 11/100\n",
      "7/7 [==============================] - 0s 0s/step - loss: 0.6799\n",
      "Epoch 12/100\n",
      "7/7 [==============================] - 0s 0s/step - loss: 0.6612\n",
      "Epoch 13/100\n",
      "7/7 [==============================] - 0s 3ms/step - loss: 0.6421\n",
      "Epoch 14/100\n",
      "7/7 [==============================] - 0s 0s/step - loss: 0.6254\n",
      "Epoch 15/100\n",
      "7/7 [==============================] - 0s 3ms/step - loss: 0.6103\n",
      "Epoch 16/100\n",
      "7/7 [==============================] - 0s 0s/step - loss: 0.5976\n",
      "Epoch 17/100\n",
      "7/7 [==============================] - 0s 0s/step - loss: 0.5847\n",
      "Epoch 18/100\n",
      "7/7 [==============================] - 0s 0s/step - loss: 0.5753\n",
      "Epoch 19/100\n",
      "7/7 [==============================] - 0s 0s/step - loss: 0.5666\n",
      "Epoch 20/100\n",
      "7/7 [==============================] - 0s 3ms/step - loss: 0.5597\n",
      "Epoch 21/100\n",
      "7/7 [==============================] - 0s 0s/step - loss: 0.5518\n",
      "Epoch 22/100\n",
      "7/7 [==============================] - 0s 0s/step - loss: 0.5449\n",
      "Epoch 23/100\n",
      "7/7 [==============================] - 0s 0s/step - loss: 0.5394\n",
      "Epoch 24/100\n",
      "7/7 [==============================] - 0s 2ms/step - loss: 0.5347\n",
      "Epoch 25/100\n",
      "7/7 [==============================] - 0s 1ms/step - loss: 0.5313\n",
      "Epoch 26/100\n",
      "7/7 [==============================] - 0s 0s/step - loss: 0.5290\n",
      "Epoch 27/100\n",
      "7/7 [==============================] - 0s 3ms/step - loss: 0.5276\n",
      "Epoch 28/100\n",
      "7/7 [==============================] - 0s 0s/step - loss: 0.5254\n",
      "Epoch 29/100\n",
      "7/7 [==============================] - 0s 3ms/step - loss: 0.5242\n",
      "Epoch 30/100\n",
      "7/7 [==============================] - 0s 0s/step - loss: 0.5236\n",
      "Epoch 31/100\n",
      "7/7 [==============================] - 0s 0s/step - loss: 0.5226\n",
      "Epoch 32/100\n",
      "7/7 [==============================] - 0s 0s/step - loss: 0.5222\n",
      "Epoch 33/100\n",
      "7/7 [==============================] - 0s 0s/step - loss: 0.5218\n",
      "Epoch 34/100\n",
      "7/7 [==============================] - 0s 3ms/step - loss: 0.5215\n",
      "Epoch 35/100\n",
      "7/7 [==============================] - 0s 0s/step - loss: 0.5214\n",
      "Epoch 36/100\n",
      "7/7 [==============================] - 0s 0s/step - loss: 0.5212\n",
      "Epoch 37/100\n",
      "7/7 [==============================] - 0s 0s/step - loss: 0.5209\n",
      "Epoch 38/100\n",
      "7/7 [==============================] - 0s 0s/step - loss: 0.5213\n",
      "Epoch 39/100\n",
      "7/7 [==============================] - 0s 0s/step - loss: 0.5207\n",
      "Epoch 40/100\n",
      "7/7 [==============================] - 0s 0s/step - loss: 0.5208\n",
      "Epoch 41/100\n",
      "7/7 [==============================] - 0s 3ms/step - loss: 0.5208\n",
      "Epoch 42/100\n",
      "7/7 [==============================] - 0s 0s/step - loss: 0.5207\n",
      "Epoch 43/100\n",
      "7/7 [==============================] - 0s 3ms/step - loss: 0.5208\n",
      "Epoch 44/100\n",
      "7/7 [==============================] - 0s 0s/step - loss: 0.5206\n",
      "Epoch 45/100\n",
      "7/7 [==============================] - 0s 0s/step - loss: 0.5208\n",
      "Epoch 46/100\n",
      "7/7 [==============================] - 0s 0s/step - loss: 0.5207\n",
      "Epoch 47/100\n",
      "7/7 [==============================] - 0s 0s/step - loss: 0.5206\n",
      "Epoch 48/100\n",
      "7/7 [==============================] - 0s 0s/step - loss: 0.5207\n",
      "Epoch 49/100\n",
      "7/7 [==============================] - 0s 0s/step - loss: 0.5208\n",
      "Epoch 50/100\n",
      "7/7 [==============================] - 0s 0s/step - loss: 0.5208\n",
      "Epoch 51/100\n",
      "7/7 [==============================] - 0s 0s/step - loss: 0.5210\n",
      "Epoch 52/100\n",
      "7/7 [==============================] - 0s 2ms/step - loss: 0.5207\n",
      "Epoch 53/100\n",
      "7/7 [==============================] - 0s 0s/step - loss: 0.5206\n",
      "Epoch 54/100\n",
      "7/7 [==============================] - 0s 0s/step - loss: 0.5207\n",
      "Epoch 55/100\n",
      "7/7 [==============================] - 0s 0s/step - loss: 0.5206\n",
      "Epoch 56/100\n",
      "7/7 [==============================] - 0s 0s/step - loss: 0.5207\n",
      "Epoch 57/100\n",
      "7/7 [==============================] - 0s 0s/step - loss: 0.5208\n",
      "Epoch 58/100\n",
      "7/7 [==============================] - 0s 3ms/step - loss: 0.5209\n",
      "Epoch 59/100\n",
      "7/7 [==============================] - 0s 0s/step - loss: 0.5206\n",
      "Epoch 60/100\n",
      "7/7 [==============================] - 0s 3ms/step - loss: 0.5206\n",
      "Epoch 61/100\n",
      "7/7 [==============================] - 0s 0s/step - loss: 0.5207\n",
      "Epoch 62/100\n",
      "7/7 [==============================] - 0s 3ms/step - loss: 0.5210\n",
      "Epoch 63/100\n",
      "7/7 [==============================] - 0s 0s/step - loss: 0.5210\n",
      "Epoch 64/100\n",
      "7/7 [==============================] - 0s 3ms/step - loss: 0.5207\n",
      "Epoch 65/100\n",
      "7/7 [==============================] - 0s 0s/step - loss: 0.5207\n",
      "Epoch 66/100\n",
      "7/7 [==============================] - 0s 0s/step - loss: 0.5208\n",
      "Epoch 67/100\n",
      "7/7 [==============================] - 0s 0s/step - loss: 0.5209\n",
      "Epoch 68/100\n",
      "7/7 [==============================] - 0s 3ms/step - loss: 0.5209\n",
      "Epoch 69/100\n",
      "7/7 [==============================] - 0s 0s/step - loss: 0.5211\n",
      "Epoch 70/100\n",
      "7/7 [==============================] - 0s 3ms/step - loss: 0.5207\n",
      "Epoch 71/100\n",
      "7/7 [==============================] - 0s 0s/step - loss: 0.5207\n",
      "Epoch 72/100\n",
      "7/7 [==============================] - 0s 3ms/step - loss: 0.5207\n",
      "Epoch 73/100\n",
      "7/7 [==============================] - 0s 0s/step - loss: 0.5207\n",
      "Epoch 74/100\n",
      "7/7 [==============================] - 0s 3ms/step - loss: 0.5208\n",
      "Epoch 75/100\n",
      "7/7 [==============================] - 0s 0s/step - loss: 0.5210\n",
      "Epoch 76/100\n",
      "7/7 [==============================] - 0s 3ms/step - loss: 0.5208\n",
      "Epoch 77/100\n",
      "7/7 [==============================] - 0s 668us/step - loss: 0.5208\n",
      "Epoch 78/100\n",
      "7/7 [==============================] - 0s 2ms/step - loss: 0.5208\n",
      "Epoch 79/100\n",
      "7/7 [==============================] - 0s 0s/step - loss: 0.5207\n",
      "Epoch 80/100\n",
      "7/7 [==============================] - 0s 3ms/step - loss: 0.5206\n",
      "Epoch 81/100\n",
      "7/7 [==============================] - 0s 0s/step - loss: 0.5212\n",
      "Epoch 82/100\n",
      "7/7 [==============================] - 0s 0s/step - loss: 0.5207\n",
      "Epoch 83/100\n",
      "7/7 [==============================] - 0s 0s/step - loss: 0.5208\n",
      "Epoch 84/100\n",
      "7/7 [==============================] - 0s 0s/step - loss: 0.5208\n",
      "Epoch 85/100\n",
      "7/7 [==============================] - 0s 3ms/step - loss: 0.5207\n",
      "Epoch 86/100\n",
      "7/7 [==============================] - 0s 0s/step - loss: 0.5211\n",
      "Epoch 87/100\n",
      "7/7 [==============================] - 0s 3ms/step - loss: 0.5207\n",
      "Epoch 88/100\n",
      "7/7 [==============================] - 0s 2ms/step - loss: 0.5209\n",
      "Epoch 89/100\n",
      "7/7 [==============================] - 0s 1ms/step - loss: 0.5209\n",
      "Epoch 90/100\n",
      "7/7 [==============================] - 0s 0s/step - loss: 0.5208\n",
      "Epoch 91/100\n",
      "7/7 [==============================] - 0s 3ms/step - loss: 0.5208\n",
      "Epoch 92/100\n",
      "7/7 [==============================] - 0s 0s/step - loss: 0.5208\n",
      "Epoch 93/100\n",
      "7/7 [==============================] - 0s 3ms/step - loss: 0.5207\n",
      "Epoch 94/100\n",
      "7/7 [==============================] - 0s 0s/step - loss: 0.5207\n",
      "Epoch 95/100\n",
      "7/7 [==============================] - 0s 3ms/step - loss: 0.5206\n",
      "Epoch 96/100\n",
      "7/7 [==============================] - 0s 0s/step - loss: 0.5209\n",
      "Epoch 97/100\n",
      "7/7 [==============================] - 0s 0s/step - loss: 0.5209\n",
      "Epoch 98/100\n",
      "7/7 [==============================] - 0s 0s/step - loss: 0.5209\n",
      "Epoch 99/100\n",
      "7/7 [==============================] - 0s 0s/step - loss: 0.5207\n",
      "Epoch 100/100\n",
      "7/7 [==============================] - 0s 0s/step - loss: 0.5206\n"
     ]
    },
    {
     "data": {
      "text/plain": "<keras.callbacks.History at 0x2850ebb5f70>"
     },
     "execution_count": 15,
     "metadata": {},
     "output_type": "execute_result"
    }
   ],
   "source": [
    "model.fit(x,y,epochs=100)"
   ],
   "metadata": {
    "collapsed": false
   }
  },
  {
   "cell_type": "code",
   "execution_count": null,
   "outputs": [],
   "source": [],
   "metadata": {
    "collapsed": false
   }
  }
 ],
 "metadata": {
  "kernelspec": {
   "display_name": "Python 3",
   "language": "python",
   "name": "python3"
  },
  "language_info": {
   "codemirror_mode": {
    "name": "ipython",
    "version": 2
   },
   "file_extension": ".py",
   "mimetype": "text/x-python",
   "name": "python",
   "nbconvert_exporter": "python",
   "pygments_lexer": "ipython2",
   "version": "2.7.6"
  }
 },
 "nbformat": 4,
 "nbformat_minor": 0
}
